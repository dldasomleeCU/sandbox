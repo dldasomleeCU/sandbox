{
 "cells": [
  {
   "cell_type": "code",
   "execution_count": 27,
   "id": "638002e6-8454-4110-a58a-b078a78ec929",
   "metadata": {},
   "outputs": [],
   "source": [
    "import pandas as pd\n",
    "import numpy as np\n",
    "import matplotlib.pyplot as plt\n",
    "import seaborn as sns\n",
    "from matplotlib.ticker import FuncFormatter\n",
    "from openai import OpenAI\n",
    "import os\n",
    "load_dotenv()\n",
    "client = OpenAI()\n",
    "plt.rcParams['figure.dpi']=140\n",
    "sns.set(style='whitegrid')\n",
    "from textwrap import shorten\n",
    "from dotenv import load_dotenv\n"
   ]
  },
  {
   "cell_type": "markdown",
   "id": "538c3d38",
   "metadata": {},
   "source": [
    "**Executive Summary**\n",
    "- Data quality: Identified and excluded negative TTR rows; proceeding with clean dataset.\n",
    "- Volume mix: Report top ticket types (~80% coverage) and channel distribution; highlight over-indexing channels by type.\n",
    "- Themes (slice): Summarized recurring themes for Technical issue via Social media to guide triage and content.\n"
   ]
  },
  {
   "cell_type": "code",
   "execution_count": 8,
   "id": "df901645",
   "metadata": {},
   "outputs": [
    {
     "name": "stderr",
     "output_type": "stream",
     "text": [
      "/Users/dasomlee/.venv/lib/python3.11/site-packages/tqdm/auto.py:21: TqdmWarning: IProgress not found. Please update jupyter and ipywidgets. See https://ipywidgets.readthedocs.io/en/stable/user_install.html\n",
      "  from .autonotebook import tqdm as notebook_tqdm\n"
     ]
    },
    {
     "name": "stdout",
     "output_type": "stream",
     "text": [
      "Path to dataset files: /Users/dasomlee/.cache/kagglehub/datasets/suraj520/customer-support-ticket-dataset/versions/1\n"
     ]
    }
   ],
   "source": [
    "import kagglehub\n",
    "\n",
    "# Download latest version\n",
    "path = kagglehub.dataset_download(\"suraj520/customer-support-ticket-dataset\")\n",
    "\n",
    "print(\"Path to dataset files:\", path)"
   ]
  },
  {
   "cell_type": "code",
   "execution_count": 10,
   "id": "f19c7138",
   "metadata": {},
   "outputs": [
    {
     "name": "stdout",
     "output_type": "stream",
     "text": [
      "Found CSV files: ['/Users/dasomlee/.cache/kagglehub/datasets/suraj520/customer-support-ticket-dataset/versions/1/customer_support_tickets.csv']\n",
      "(8469, 17)\n"
     ]
    },
    {
     "data": {
      "text/html": [
       "<div>\n",
       "<style scoped>\n",
       "    .dataframe tbody tr th:only-of-type {\n",
       "        vertical-align: middle;\n",
       "    }\n",
       "\n",
       "    .dataframe tbody tr th {\n",
       "        vertical-align: top;\n",
       "    }\n",
       "\n",
       "    .dataframe thead th {\n",
       "        text-align: right;\n",
       "    }\n",
       "</style>\n",
       "<table border=\"1\" class=\"dataframe\">\n",
       "  <thead>\n",
       "    <tr style=\"text-align: right;\">\n",
       "      <th></th>\n",
       "      <th>Ticket ID</th>\n",
       "      <th>Customer Name</th>\n",
       "      <th>Customer Email</th>\n",
       "      <th>Customer Age</th>\n",
       "      <th>Customer Gender</th>\n",
       "      <th>Product Purchased</th>\n",
       "      <th>Date of Purchase</th>\n",
       "      <th>Ticket Type</th>\n",
       "      <th>Ticket Subject</th>\n",
       "      <th>Ticket Description</th>\n",
       "      <th>Ticket Status</th>\n",
       "      <th>Resolution</th>\n",
       "      <th>Ticket Priority</th>\n",
       "      <th>Ticket Channel</th>\n",
       "      <th>First Response Time</th>\n",
       "      <th>Time to Resolution</th>\n",
       "      <th>Customer Satisfaction Rating</th>\n",
       "    </tr>\n",
       "  </thead>\n",
       "  <tbody>\n",
       "    <tr>\n",
       "      <th>0</th>\n",
       "      <td>1</td>\n",
       "      <td>Marisa Obrien</td>\n",
       "      <td>carrollallison@example.com</td>\n",
       "      <td>32</td>\n",
       "      <td>Other</td>\n",
       "      <td>GoPro Hero</td>\n",
       "      <td>2021-03-22</td>\n",
       "      <td>Technical issue</td>\n",
       "      <td>Product setup</td>\n",
       "      <td>I'm having an issue with the {product_purchase...</td>\n",
       "      <td>Pending Customer Response</td>\n",
       "      <td>NaN</td>\n",
       "      <td>Critical</td>\n",
       "      <td>Social media</td>\n",
       "      <td>2023-06-01 12:15:36</td>\n",
       "      <td>NaN</td>\n",
       "      <td>NaN</td>\n",
       "    </tr>\n",
       "    <tr>\n",
       "      <th>1</th>\n",
       "      <td>2</td>\n",
       "      <td>Jessica Rios</td>\n",
       "      <td>clarkeashley@example.com</td>\n",
       "      <td>42</td>\n",
       "      <td>Female</td>\n",
       "      <td>LG Smart TV</td>\n",
       "      <td>2021-05-22</td>\n",
       "      <td>Technical issue</td>\n",
       "      <td>Peripheral compatibility</td>\n",
       "      <td>I'm having an issue with the {product_purchase...</td>\n",
       "      <td>Pending Customer Response</td>\n",
       "      <td>NaN</td>\n",
       "      <td>Critical</td>\n",
       "      <td>Chat</td>\n",
       "      <td>2023-06-01 16:45:38</td>\n",
       "      <td>NaN</td>\n",
       "      <td>NaN</td>\n",
       "    </tr>\n",
       "    <tr>\n",
       "      <th>2</th>\n",
       "      <td>3</td>\n",
       "      <td>Christopher Robbins</td>\n",
       "      <td>gonzalestracy@example.com</td>\n",
       "      <td>48</td>\n",
       "      <td>Other</td>\n",
       "      <td>Dell XPS</td>\n",
       "      <td>2020-07-14</td>\n",
       "      <td>Technical issue</td>\n",
       "      <td>Network problem</td>\n",
       "      <td>I'm facing a problem with my {product_purchase...</td>\n",
       "      <td>Closed</td>\n",
       "      <td>Case maybe show recently my computer follow.</td>\n",
       "      <td>Low</td>\n",
       "      <td>Social media</td>\n",
       "      <td>2023-06-01 11:14:38</td>\n",
       "      <td>2023-06-01 18:05:38</td>\n",
       "      <td>3.0</td>\n",
       "    </tr>\n",
       "    <tr>\n",
       "      <th>3</th>\n",
       "      <td>4</td>\n",
       "      <td>Christina Dillon</td>\n",
       "      <td>bradleyolson@example.org</td>\n",
       "      <td>27</td>\n",
       "      <td>Female</td>\n",
       "      <td>Microsoft Office</td>\n",
       "      <td>2020-11-13</td>\n",
       "      <td>Billing inquiry</td>\n",
       "      <td>Account access</td>\n",
       "      <td>I'm having an issue with the {product_purchase...</td>\n",
       "      <td>Closed</td>\n",
       "      <td>Try capital clearly never color toward story.</td>\n",
       "      <td>Low</td>\n",
       "      <td>Social media</td>\n",
       "      <td>2023-06-01 07:29:40</td>\n",
       "      <td>2023-06-01 01:57:40</td>\n",
       "      <td>3.0</td>\n",
       "    </tr>\n",
       "    <tr>\n",
       "      <th>4</th>\n",
       "      <td>5</td>\n",
       "      <td>Alexander Carroll</td>\n",
       "      <td>bradleymark@example.com</td>\n",
       "      <td>67</td>\n",
       "      <td>Female</td>\n",
       "      <td>Autodesk AutoCAD</td>\n",
       "      <td>2020-02-04</td>\n",
       "      <td>Billing inquiry</td>\n",
       "      <td>Data loss</td>\n",
       "      <td>I'm having an issue with the {product_purchase...</td>\n",
       "      <td>Closed</td>\n",
       "      <td>West decision evidence bit.</td>\n",
       "      <td>Low</td>\n",
       "      <td>Email</td>\n",
       "      <td>2023-06-01 00:12:42</td>\n",
       "      <td>2023-06-01 19:53:42</td>\n",
       "      <td>1.0</td>\n",
       "    </tr>\n",
       "  </tbody>\n",
       "</table>\n",
       "</div>"
      ],
      "text/plain": [
       "   Ticket ID        Customer Name              Customer Email  Customer Age  \\\n",
       "0          1        Marisa Obrien  carrollallison@example.com            32   \n",
       "1          2         Jessica Rios    clarkeashley@example.com            42   \n",
       "2          3  Christopher Robbins   gonzalestracy@example.com            48   \n",
       "3          4     Christina Dillon    bradleyolson@example.org            27   \n",
       "4          5    Alexander Carroll     bradleymark@example.com            67   \n",
       "\n",
       "  Customer Gender Product Purchased Date of Purchase      Ticket Type  \\\n",
       "0           Other        GoPro Hero       2021-03-22  Technical issue   \n",
       "1          Female       LG Smart TV       2021-05-22  Technical issue   \n",
       "2           Other          Dell XPS       2020-07-14  Technical issue   \n",
       "3          Female  Microsoft Office       2020-11-13  Billing inquiry   \n",
       "4          Female  Autodesk AutoCAD       2020-02-04  Billing inquiry   \n",
       "\n",
       "             Ticket Subject  \\\n",
       "0             Product setup   \n",
       "1  Peripheral compatibility   \n",
       "2           Network problem   \n",
       "3            Account access   \n",
       "4                 Data loss   \n",
       "\n",
       "                                  Ticket Description  \\\n",
       "0  I'm having an issue with the {product_purchase...   \n",
       "1  I'm having an issue with the {product_purchase...   \n",
       "2  I'm facing a problem with my {product_purchase...   \n",
       "3  I'm having an issue with the {product_purchase...   \n",
       "4  I'm having an issue with the {product_purchase...   \n",
       "\n",
       "               Ticket Status                                     Resolution  \\\n",
       "0  Pending Customer Response                                            NaN   \n",
       "1  Pending Customer Response                                            NaN   \n",
       "2                     Closed   Case maybe show recently my computer follow.   \n",
       "3                     Closed  Try capital clearly never color toward story.   \n",
       "4                     Closed                    West decision evidence bit.   \n",
       "\n",
       "  Ticket Priority Ticket Channel  First Response Time   Time to Resolution  \\\n",
       "0        Critical   Social media  2023-06-01 12:15:36                  NaN   \n",
       "1        Critical           Chat  2023-06-01 16:45:38                  NaN   \n",
       "2             Low   Social media  2023-06-01 11:14:38  2023-06-01 18:05:38   \n",
       "3             Low   Social media  2023-06-01 07:29:40  2023-06-01 01:57:40   \n",
       "4             Low          Email  2023-06-01 00:12:42  2023-06-01 19:53:42   \n",
       "\n",
       "   Customer Satisfaction Rating  \n",
       "0                           NaN  \n",
       "1                           NaN  \n",
       "2                           3.0  \n",
       "3                           3.0  \n",
       "4                           1.0  "
      ]
     },
     "execution_count": 10,
     "metadata": {},
     "output_type": "execute_result"
    }
   ],
   "source": [
    "import os, glob\n",
    "import pandas as pd\n",
    "\n",
    "# Point to the path KaggleHub returned\n",
    "path = \"/Users/dasomlee/.cache/kagglehub/datasets/suraj520/customer-support-ticket-dataset/versions/1\"\n",
    "\n",
    "# Find CSVs inside\n",
    "csvs = glob.glob(os.path.join(path, \"*.csv\"))\n",
    "print(\"Found CSV files:\", csvs)\n",
    "\n",
    "# Load the first CSV (adjust if there are multiple)\n",
    "df = pd.read_csv(csvs[0])\n",
    "print(df.shape)\n",
    "df.head()"
   ]
  },
  {
   "cell_type": "code",
   "execution_count": 11,
   "id": "703f3638-170a-46d2-8b92-37dda235c053",
   "metadata": {},
   "outputs": [
    {
     "data": {
      "text/plain": [
       "Index(['Ticket ID', 'Customer Name', 'Customer Email', 'Customer Age',\n",
       "       'Customer Gender', 'Product Purchased', 'Date of Purchase',\n",
       "       'Ticket Type', 'Ticket Subject', 'Ticket Description', 'Ticket Status',\n",
       "       'Resolution', 'Ticket Priority', 'Ticket Channel',\n",
       "       'First Response Time', 'Time to Resolution',\n",
       "       'Customer Satisfaction Rating'],\n",
       "      dtype='object')"
      ]
     },
     "execution_count": 11,
     "metadata": {},
     "output_type": "execute_result"
    }
   ],
   "source": [
    "df.columns"
   ]
  },
  {
   "cell_type": "markdown",
   "id": "50e65fc6-30f9-4d19-becc-ba9990c7837c",
   "metadata": {},
   "source": [
    "**BOILERPLATE**\n",
    "\n",
    "I have a customer support tickets dataset with columns like:\n",
    "\n",
    "Ticket ID, Customer Name, Customer Email, Customer Age, Customer Gender, Product Purchased, Date of Purchase, Ticket Type, Ticket Subject, Ticket Description, Ticket Status, Resolution, Ticket Priority, Ticket Channel, First Response Time, Time to Resolution, Customer Satisfaction Rating.\n",
    "\n",
    "I want to build a repeatable analysis workflow in Jupyter Notebook.\n",
    "\n",
    "Step 1: Clean the dataset\n",
    "- Inspect for missing values, nulls, or NaNs across all columns.\n",
    "- Check datatypes (especially date/time fields) and convert to datetime where appropriate (e.g., Date of Purchase, First Response Time, Time to Resolution).\n",
    "- Handle duplicates if they exist (Ticket ID should be unique).\n",
    "- Decide on strategies for missing values (e.g., drop, fill with placeholder, impute).\n",
    "- Normalize categorical values if inconsistent (e.g., gender labels, ticket status).\n",
    "\n",
    "Step 2: Basic EDA\n",
    "- Show dataset shape (# rows, # columns).\n",
    "- Show overall summary statistics (df.describe(), df.info())."
   ]
  },
  {
   "cell_type": "markdown",
   "id": "347c90eb-95cc-4993-9811-375027551069",
   "metadata": {},
   "source": [
    "**SCENARIO 1: Ticket Volume & EDA**\n",
    "\n",
    "Prompt: \"What are the main categories of tickets, and \n",
    "where is the workload coming from?\""
   ]
  },
  {
   "cell_type": "markdown",
   "id": "688a095f-9ec8-4f36-9df5-3a101194e9bb",
   "metadata": {},
   "source": [
    "#1. clean  the dataset"
   ]
  },
  {
   "cell_type": "code",
   "execution_count": 12,
   "id": "7e8e9c5d-e2af-4c95-b673-cebe6757d55d",
   "metadata": {},
   "outputs": [
    {
     "name": "stdout",
     "output_type": "stream",
     "text": [
      "Shape: (8469, 17)\n",
      "Dtypes:\n"
     ]
    },
    {
     "data": {
      "text/plain": [
       "Ticket ID                         int64\n",
       "Customer Name                    object\n",
       "Customer Email                   object\n",
       "Customer Age                      int64\n",
       "Customer Gender                  object\n",
       "Product Purchased                object\n",
       "Date of Purchase                 object\n",
       "Ticket Type                      object\n",
       "Ticket Subject                   object\n",
       "Ticket Description               object\n",
       "Ticket Status                    object\n",
       "Resolution                       object\n",
       "Ticket Priority                  object\n",
       "Ticket Channel                   object\n",
       "First Response Time              object\n",
       "Time to Resolution               object\n",
       "Customer Satisfaction Rating    float64\n",
       "dtype: object"
      ]
     },
     "metadata": {},
     "output_type": "display_data"
    },
    {
     "name": "stdout",
     "output_type": "stream",
     "text": [
      "Primary key duplicates (Ticket ID): 0\n"
     ]
    },
    {
     "data": {
      "text/html": [
       "<div>\n",
       "<style scoped>\n",
       "    .dataframe tbody tr th:only-of-type {\n",
       "        vertical-align: middle;\n",
       "    }\n",
       "\n",
       "    .dataframe tbody tr th {\n",
       "        vertical-align: top;\n",
       "    }\n",
       "\n",
       "    .dataframe thead th {\n",
       "        text-align: right;\n",
       "    }\n",
       "</style>\n",
       "<table border=\"1\" class=\"dataframe\">\n",
       "  <thead>\n",
       "    <tr style=\"text-align: right;\">\n",
       "      <th></th>\n",
       "      <th>missing</th>\n",
       "    </tr>\n",
       "  </thead>\n",
       "  <tbody>\n",
       "    <tr>\n",
       "      <th>Customer Satisfaction Rating</th>\n",
       "      <td>5700</td>\n",
       "    </tr>\n",
       "    <tr>\n",
       "      <th>Resolution</th>\n",
       "      <td>5700</td>\n",
       "    </tr>\n",
       "    <tr>\n",
       "      <th>Time to Resolution</th>\n",
       "      <td>5700</td>\n",
       "    </tr>\n",
       "    <tr>\n",
       "      <th>First Response Time</th>\n",
       "      <td>2819</td>\n",
       "    </tr>\n",
       "  </tbody>\n",
       "</table>\n",
       "</div>"
      ],
      "text/plain": [
       "                              missing\n",
       "Customer Satisfaction Rating     5700\n",
       "Resolution                       5700\n",
       "Time to Resolution               5700\n",
       "First Response Time              2819"
      ]
     },
     "metadata": {},
     "output_type": "display_data"
    },
    {
     "data": {
      "text/html": [
       "<div>\n",
       "<style scoped>\n",
       "    .dataframe tbody tr th:only-of-type {\n",
       "        vertical-align: middle;\n",
       "    }\n",
       "\n",
       "    .dataframe tbody tr th {\n",
       "        vertical-align: top;\n",
       "    }\n",
       "\n",
       "    .dataframe thead th {\n",
       "        text-align: right;\n",
       "    }\n",
       "</style>\n",
       "<table border=\"1\" class=\"dataframe\">\n",
       "  <thead>\n",
       "    <tr style=\"text-align: right;\">\n",
       "      <th></th>\n",
       "      <th>% missing</th>\n",
       "    </tr>\n",
       "  </thead>\n",
       "  <tbody>\n",
       "    <tr>\n",
       "      <th>Customer Satisfaction Rating</th>\n",
       "      <td>67.3</td>\n",
       "    </tr>\n",
       "    <tr>\n",
       "      <th>Resolution</th>\n",
       "      <td>67.3</td>\n",
       "    </tr>\n",
       "    <tr>\n",
       "      <th>Time to Resolution</th>\n",
       "      <td>67.3</td>\n",
       "    </tr>\n",
       "    <tr>\n",
       "      <th>First Response Time</th>\n",
       "      <td>33.3</td>\n",
       "    </tr>\n",
       "    <tr>\n",
       "      <th>Ticket ID</th>\n",
       "      <td>0.0</td>\n",
       "    </tr>\n",
       "    <tr>\n",
       "      <th>Customer Name</th>\n",
       "      <td>0.0</td>\n",
       "    </tr>\n",
       "    <tr>\n",
       "      <th>Customer Email</th>\n",
       "      <td>0.0</td>\n",
       "    </tr>\n",
       "    <tr>\n",
       "      <th>Customer Age</th>\n",
       "      <td>0.0</td>\n",
       "    </tr>\n",
       "    <tr>\n",
       "      <th>Customer Gender</th>\n",
       "      <td>0.0</td>\n",
       "    </tr>\n",
       "    <tr>\n",
       "      <th>Ticket Subject</th>\n",
       "      <td>0.0</td>\n",
       "    </tr>\n",
       "    <tr>\n",
       "      <th>Ticket Type</th>\n",
       "      <td>0.0</td>\n",
       "    </tr>\n",
       "    <tr>\n",
       "      <th>Date of Purchase</th>\n",
       "      <td>0.0</td>\n",
       "    </tr>\n",
       "    <tr>\n",
       "      <th>Product Purchased</th>\n",
       "      <td>0.0</td>\n",
       "    </tr>\n",
       "    <tr>\n",
       "      <th>Ticket Priority</th>\n",
       "      <td>0.0</td>\n",
       "    </tr>\n",
       "    <tr>\n",
       "      <th>Ticket Status</th>\n",
       "      <td>0.0</td>\n",
       "    </tr>\n",
       "    <tr>\n",
       "      <th>Ticket Description</th>\n",
       "      <td>0.0</td>\n",
       "    </tr>\n",
       "    <tr>\n",
       "      <th>Ticket Channel</th>\n",
       "      <td>0.0</td>\n",
       "    </tr>\n",
       "  </tbody>\n",
       "</table>\n",
       "</div>"
      ],
      "text/plain": [
       "                              % missing\n",
       "Customer Satisfaction Rating       67.3\n",
       "Resolution                         67.3\n",
       "Time to Resolution                 67.3\n",
       "First Response Time                33.3\n",
       "Ticket ID                           0.0\n",
       "Customer Name                       0.0\n",
       "Customer Email                      0.0\n",
       "Customer Age                        0.0\n",
       "Customer Gender                     0.0\n",
       "Ticket Subject                      0.0\n",
       "Ticket Type                         0.0\n",
       "Date of Purchase                    0.0\n",
       "Product Purchased                   0.0\n",
       "Ticket Priority                     0.0\n",
       "Ticket Status                       0.0\n",
       "Ticket Description                  0.0\n",
       "Ticket Channel                      0.0"
      ]
     },
     "metadata": {},
     "output_type": "display_data"
    }
   ],
   "source": [
    "print('Shape:', df.shape)\n",
    "print('Dtypes:')\n",
    "display(df.dtypes)\n",
    "print('Primary key duplicates (Ticket ID):', df.duplicated(subset=['Ticket ID']).sum() if 'Ticket ID' in df.columns else 'N/A')\n",
    "na = df.isna().sum().sort_values(ascending=False)\n",
    "display(na[na>0].to_frame('missing'))\n",
    "# Percent missing\n",
    "display((df.isna().mean().sort_values(ascending=False)*100).round(1).to_frame('% missing'))"
   ]
  },
  {
   "cell_type": "code",
   "execution_count": 13,
   "id": "c6c3ea4c-866d-40a0-8325-dbdf20d94358",
   "metadata": {},
   "outputs": [
    {
     "data": {
      "text/plain": [
       "Ticket Status\n",
       "Pending Customer Response    2881\n",
       "Open                         2819\n",
       "Name: count, dtype: int64"
      ]
     },
     "execution_count": 13,
     "metadata": {},
     "output_type": "execute_result"
    }
   ],
   "source": [
    "df[df['Resolution'].isnull()]['Ticket Status'].value_counts(dropna=False)"
   ]
  },
  {
   "cell_type": "markdown",
   "id": "503feecc-228b-4442-a4b3-70141e1112da",
   "metadata": {},
   "source": [
    "missing values in time to resolution/resolution/customer satisfaction rating means it's still open or pending custome response. So we create flags has_first_response, has_resolution, has_csat."
   ]
  },
  {
   "cell_type": "code",
   "execution_count": 14,
   "id": "0d5de4aa-4a6f-4191-8e5b-dc5b9eec07bc",
   "metadata": {},
   "outputs": [
    {
     "name": "stdout",
     "output_type": "stream",
     "text": [
      "has_csat          32.7\n",
      "has_resolution    32.7\n",
      "has_ttr           32.7\n",
      "has_first_resp    66.7\n",
      "dtype: float64\n"
     ]
    },
    {
     "data": {
      "text/plain": [
       "count    2769.000000\n",
       "mean       -0.057704\n",
       "std         9.564112\n",
       "min       -23.233333\n",
       "25%        -6.933333\n",
       "50%         0.166667\n",
       "75%         6.483333\n",
       "max        23.466667\n",
       "dtype: float64"
      ]
     },
     "execution_count": 14,
     "metadata": {},
     "output_type": "execute_result"
    }
   ],
   "source": [
    "for c in ['First Response Time','Time to Resolution','Date of Purchase']:\n",
    "    if c in df.columns:\n",
    "        df[c] = pd.to_datetime(df[c], errors='coerce')\n",
    "\n",
    "df['has_ttr'] = ('Time to Resolution' in df.columns and 'First Response Time' in df.columns) and df['Time to Resolution'].notna() & df['First Response Time'].notna()\n",
    "df['has_csat'] = 'Customer Satisfaction Rating' in df.columns and df['Customer Satisfaction Rating'].notna()\n",
    "df['has_resolution'] = 'Resolution' in df.columns and df['Resolution'].notna()\n",
    "df['has_first_resp'] = 'First Response Time' in df.columns and df['First Response Time'].notna()"
   ]
  },
  {
   "cell_type": "markdown",
   "id": "9964d416-b8b3-4d3e-8b43-22e5743879ff",
   "metadata": {},
   "source": [
    "negative TTR happens\n",
    "- validate \n",
    "- check the % \n",
    "- exclude them from reporting"
   ]
  },
  {
   "cell_type": "code",
   "execution_count": 9,
   "id": "dcb226a9-c650-466b-af54-b772d7538fed",
   "metadata": {},
   "outputs": [],
   "source": [
    "# df.loc[df['has_ttr'] & (df['Time to Resolution'] < df['First Response Time'])]"
   ]
  },
  {
   "cell_type": "code",
   "execution_count": 16,
   "id": "702f5a06-70cd-4212-90f9-fdd4bcd3fbef",
   "metadata": {},
   "outputs": [
    {
     "name": "stdout",
     "output_type": "stream",
     "text": [
      "Negative TTR rows: 1365 (49.3% of TTR-eligible)\n"
     ]
    }
   ],
   "source": [
    "bad = df.loc[df['has_ttr'] & (df['Time to Resolution'] < df['First Response Time']), ['Ticket ID','First Response Time','Time to Resolution','Ticket Status','Ticket Channel']]\n",
    "bad_ratio = len(bad) / df['has_ttr'].sum()\n",
    "print('Negative TTR rows:', len(bad), f'({bad_ratio:.1%} of TTR-eligible)')"
   ]
  },
  {
   "cell_type": "markdown",
   "id": "726f4ee5-afa4-46cc-8738-07d87c055ca4",
   "metadata": {},
   "source": [
    "In production, I’d validate logging pipelines; here I’ll filter bad rows.\n",
    "Removed 1,365 rows with negative TTR (49.3% of TTR-eligible). Proceeding with clean_df."
   ]
  },
  {
   "cell_type": "code",
   "execution_count": 17,
   "id": "4ee2f99b-d45e-4345-9b79-179d637171ad",
   "metadata": {},
   "outputs": [],
   "source": [
    "clean_df = df.loc[~(df['has_ttr'] & (df['Time to Resolution'] < df['First Response Time']))]"
   ]
  },
  {
   "cell_type": "code",
   "execution_count": 18,
   "id": "9ba2162f-19f6-4aa2-93da-5f480710113f",
   "metadata": {},
   "outputs": [
    {
     "data": {
      "text/plain": [
       "count    1404.00000\n",
       "mean        3.02849\n",
       "std         1.40025\n",
       "min         1.00000\n",
       "25%         2.00000\n",
       "50%         3.00000\n",
       "75%         4.00000\n",
       "max         5.00000\n",
       "Name: Customer Satisfaction Rating, dtype: float64"
      ]
     },
     "metadata": {},
     "output_type": "display_data"
    },
    {
     "data": {
      "text/plain": [
       "count    7104.000000\n",
       "mean       43.931447\n",
       "std        15.318513\n",
       "min        18.000000\n",
       "25%        30.000000\n",
       "50%        44.000000\n",
       "75%        57.000000\n",
       "max        70.000000\n",
       "Name: Customer Age, dtype: float64"
      ]
     },
     "metadata": {},
     "output_type": "display_data"
    }
   ],
   "source": [
    "# Valid ranges / basic validity checks\n",
    "if 'Customer Satisfaction Rating' in df.columns:\n",
    "    display(clean_df['Customer Satisfaction Rating'].describe())\n",
    "if 'Customer Age' in df.columns:\n",
    "    display(clean_df['Customer Age'].describe())"
   ]
  },
  {
   "cell_type": "code",
   "execution_count": 19,
   "id": "74388a64-ac26-4ca8-8564-43a93a70ced3",
   "metadata": {},
   "outputs": [
    {
     "name": "stdout",
     "output_type": "stream",
     "text": [
      "Ticket Type unique values (lowercased): ['billing inquiry', 'cancellation request', 'product inquiry', 'refund request', 'technical issue']\n",
      "Ticket Channel unique values (lowercased): ['chat', 'email', 'phone', 'social media']\n",
      "Ticket Priority unique values (lowercased): ['critical', 'high', 'low', 'medium']\n",
      "Ticket Status unique values (lowercased): ['closed', 'open', 'pending customer response']\n"
     ]
    }
   ],
   "source": [
    "# Categorical domains\n",
    "for c in ['Ticket Type','Ticket Channel','Ticket Priority','Ticket Status']:\n",
    "    if c in clean_df.columns:\n",
    "        vals = clean_df[c].astype(str).str.strip().str.lower().unique()\n",
    "        print(c, 'unique values (lowercased):', sorted(vals)[:50])"
   ]
  },
  {
   "cell_type": "markdown",
   "id": "b115c231-aeff-4b84-b6ef-ec2d10a4d399",
   "metadata": {},
   "source": [
    "#2 basic EDA"
   ]
  },
  {
   "cell_type": "code",
   "execution_count": 28,
   "id": "b3337b18-714b-47c4-ab3b-c6aadee65d38",
   "metadata": {
    "scrolled": true
   },
   "outputs": [
    {
     "data": {
      "image/png": "[encoded data removed]",
      "text/plain": [
       "<Figure size 1120x560 with 1 Axes>"
      ]
     },
     "metadata": {},
     "output_type": "display_data"
    },
    {
     "data": {
      "image/png": "[encoded data removed]",
      "text/plain": [
       "<Figure size 1120x560 with 1 Axes>"
      ]
     },
     "metadata": {},
     "output_type": "display_data"
    },
    {
     "data": {
      "image/png": "[encoded data removed]",
      "text/plain": [
       "<Figure size 1120x560 with 1 Axes>"
      ]
     },
     "metadata": {},
     "output_type": "display_data"
    },
    {
     "data": {
      "text/plain": [
       "<Axes: title={'center': 'Ticket Priority Distribution (%)'}, ylabel='Percent'>"
      ]
     },
     "execution_count": 28,
     "metadata": {},
     "output_type": "execute_result"
    }
   ],
   "source": [
    "from matplotlib.ticker import FuncFormatter\n",
    "\n",
    "def plot_counts(df, col, normalize=True, kind=\"bar\", figsize=(8,4)):\n",
    "    s = df[col].value_counts(normalize=normalize)\n",
    "    ax = s.plot(kind=kind, figsize=figsize)\n",
    "    ax.set_title(f\"{col} Distribution\" + (\" (%)\" if normalize else \"\"))\n",
    "    ax.set_xlabel(\"\")\n",
    "    ax.set_ylabel(\"Percent\" if normalize else \"Count\")\n",
    "    if normalize:\n",
    "        ax.yaxis.set_major_formatter(FuncFormatter(lambda y, _: f\"{y*100:.0f}%\"))\n",
    "        plt.tight_layout()\n",
    "        plt.show()\n",
    "    return ax\n",
    "\n",
    "plot_counts(clean_df, 'Ticket Type')\n",
    "plot_counts(clean_df, 'Ticket Channel')\n",
    "plot_counts(clean_df, 'Ticket Priority')"
   ]
  },
  {
   "cell_type": "code",
   "execution_count": 88,
   "id": "fb4eaf74-27dc-40c5-a2c9-cf1aa04b62d4",
   "metadata": {},
   "outputs": [
    {
     "data": {
      "text/html": [
       "<div>\n",
       "<style scoped>\n",
       "    .dataframe tbody tr th:only-of-type {\n",
       "        vertical-align: middle;\n",
       "    }\n",
       "\n",
       "    .dataframe tbody tr th {\n",
       "        vertical-align: top;\n",
       "    }\n",
       "\n",
       "    .dataframe thead th {\n",
       "        text-align: right;\n",
       "    }\n",
       "</style>\n",
       "<table border=\"1\" class=\"dataframe\">\n",
       "  <thead>\n",
       "    <tr style=\"text-align: right;\">\n",
       "      <th></th>\n",
       "      <th>count</th>\n",
       "      <th>share</th>\n",
       "      <th>cum_share</th>\n",
       "    </tr>\n",
       "    <tr>\n",
       "      <th>Ticket Type</th>\n",
       "      <th></th>\n",
       "      <th></th>\n",
       "      <th></th>\n",
       "    </tr>\n",
       "  </thead>\n",
       "  <tbody>\n",
       "    <tr>\n",
       "      <th>Technical issue</th>\n",
       "      <td>1472</td>\n",
       "      <td>0.207</td>\n",
       "      <td>0.207</td>\n",
       "    </tr>\n",
       "    <tr>\n",
       "      <th>Refund request</th>\n",
       "      <td>1460</td>\n",
       "      <td>0.206</td>\n",
       "      <td>0.413</td>\n",
       "    </tr>\n",
       "    <tr>\n",
       "      <th>Cancellation request</th>\n",
       "      <td>1444</td>\n",
       "      <td>0.203</td>\n",
       "      <td>0.616</td>\n",
       "    </tr>\n",
       "    <tr>\n",
       "      <th>Product inquiry</th>\n",
       "      <td>1365</td>\n",
       "      <td>0.192</td>\n",
       "      <td>0.808</td>\n",
       "    </tr>\n",
       "    <tr>\n",
       "      <th>Billing inquiry</th>\n",
       "      <td>1363</td>\n",
       "      <td>0.192</td>\n",
       "      <td>1.000</td>\n",
       "    </tr>\n",
       "  </tbody>\n",
       "</table>\n",
       "</div>"
      ],
      "text/plain": [
       "                      count  share  cum_share\n",
       "Ticket Type                                  \n",
       "Technical issue        1472  0.207      0.207\n",
       "Refund request         1460  0.206      0.413\n",
       "Cancellation request   1444  0.203      0.616\n",
       "Product inquiry        1365  0.192      0.808\n",
       "Billing inquiry        1363  0.192      1.000"
      ]
     },
     "metadata": {},
     "output_type": "display_data"
    },
    {
     "name": "stdout",
     "output_type": "stream",
     "text": [
      "Head types (<80% of tickets): ['Technical issue', 'Refund request', 'Cancellation request']\n"
     ]
    }
   ],
   "source": [
    "tbl = clean_df['Ticket Type'].value_counts().to_frame('count')\n",
    "tbl['share'] = (tbl['count']/tbl['count'].sum()).round(3)\n",
    "tbl['cum_share'] = tbl['share'].cumsum().round(3)\n",
    "display(tbl)\n",
    "head_types = tbl.index[tbl['cum_share'] <= 0.8].tolist()\n",
    "print('Head types (<80% of tickets):', head_types)"
   ]
  },
  {
   "cell_type": "code",
   "execution_count": 89,
   "id": "480f5b62-a3e9-45cb-8d3d-5b23f422ff7e",
   "metadata": {
    "scrolled": true
   },
   "outputs": [
    {
     "data": {
      "image/png": "[encoded data removed]",
      "text/plain": [
       "<Figure size 1120x700 with 2 Axes>"
      ]
     },
     "metadata": {},
     "output_type": "display_data"
    },
    {
     "data": {
      "text/html": [
       "<div>\n",
       "<style scoped>\n",
       "    .dataframe tbody tr th:only-of-type {\n",
       "        vertical-align: middle;\n",
       "    }\n",
       "\n",
       "    .dataframe tbody tr th {\n",
       "        vertical-align: top;\n",
       "    }\n",
       "\n",
       "    .dataframe thead th {\n",
       "        text-align: right;\n",
       "    }\n",
       "</style>\n",
       "<table border=\"1\" class=\"dataframe\">\n",
       "  <thead>\n",
       "    <tr style=\"text-align: right;\">\n",
       "      <th>Ticket Channel</th>\n",
       "      <th>Chat</th>\n",
       "      <th>Email</th>\n",
       "      <th>Phone</th>\n",
       "      <th>Social media</th>\n",
       "    </tr>\n",
       "    <tr>\n",
       "      <th>Ticket Type</th>\n",
       "      <th></th>\n",
       "      <th></th>\n",
       "      <th></th>\n",
       "      <th></th>\n",
       "    </tr>\n",
       "  </thead>\n",
       "  <tbody>\n",
       "    <tr>\n",
       "      <th>Billing inquiry</th>\n",
       "      <td>0.047</td>\n",
       "      <td>0.047</td>\n",
       "      <td>0.051</td>\n",
       "      <td>0.047</td>\n",
       "    </tr>\n",
       "    <tr>\n",
       "      <th>Cancellation request</th>\n",
       "      <td>0.049</td>\n",
       "      <td>0.053</td>\n",
       "      <td>0.051</td>\n",
       "      <td>0.050</td>\n",
       "    </tr>\n",
       "    <tr>\n",
       "      <th>Product inquiry</th>\n",
       "      <td>0.046</td>\n",
       "      <td>0.050</td>\n",
       "      <td>0.048</td>\n",
       "      <td>0.047</td>\n",
       "    </tr>\n",
       "    <tr>\n",
       "      <th>Refund request</th>\n",
       "      <td>0.050</td>\n",
       "      <td>0.053</td>\n",
       "      <td>0.050</td>\n",
       "      <td>0.052</td>\n",
       "    </tr>\n",
       "    <tr>\n",
       "      <th>Technical issue</th>\n",
       "      <td>0.054</td>\n",
       "      <td>0.048</td>\n",
       "      <td>0.049</td>\n",
       "      <td>0.056</td>\n",
       "    </tr>\n",
       "  </tbody>\n",
       "</table>\n",
       "</div>"
      ],
      "text/plain": [
       "Ticket Channel         Chat  Email  Phone  Social media\n",
       "Ticket Type                                            \n",
       "Billing inquiry       0.047  0.047  0.051         0.047\n",
       "Cancellation request  0.049  0.053  0.051         0.050\n",
       "Product inquiry       0.046  0.050  0.048         0.047\n",
       "Refund request        0.050  0.053  0.050         0.052\n",
       "Technical issue       0.054  0.048  0.049         0.056"
      ]
     },
     "execution_count": 89,
     "metadata": {},
     "output_type": "execute_result"
    }
   ],
   "source": [
    "heat = pd.crosstab(clean_df['Ticket Type'], clean_df['Ticket Channel'], normalize='all').round(3)\n",
    "plt.figure(figsize=(8,5))\n",
    "sns.heatmap(heat*100, cmap='Blues', annot=True, fmt='.0f')\n",
    "plt.title('Ticket Type x Channel (% of total)')\n",
    "plt.xlabel('Ticket Channel'); plt.ylabel('Ticket Type')\n",
    "plt.tight_layout(); plt.show()\n",
    "heat"
   ]
  },
  {
   "cell_type": "code",
   "execution_count": 32,
   "id": "f749ee3d-979c-4811-b6ba-005fdf611d26",
   "metadata": {},
   "outputs": [
    {
     "data": {
      "text/html": [
       "<div>\n",
       "<style scoped>\n",
       "    .dataframe tbody tr th:only-of-type {\n",
       "        vertical-align: middle;\n",
       "    }\n",
       "\n",
       "    .dataframe tbody tr th {\n",
       "        vertical-align: top;\n",
       "    }\n",
       "\n",
       "    .dataframe thead th {\n",
       "        text-align: right;\n",
       "    }\n",
       "</style>\n",
       "<table border=\"1\" class=\"dataframe\">\n",
       "  <thead>\n",
       "    <tr style=\"text-align: right;\">\n",
       "      <th></th>\n",
       "      <th>% overall</th>\n",
       "      <th>% in head types</th>\n",
       "    </tr>\n",
       "    <tr>\n",
       "      <th>Ticket Channel</th>\n",
       "      <th></th>\n",
       "      <th></th>\n",
       "    </tr>\n",
       "  </thead>\n",
       "  <tbody>\n",
       "    <tr>\n",
       "      <th>Email</th>\n",
       "      <td>25.3</td>\n",
       "      <td>25.2</td>\n",
       "    </tr>\n",
       "    <tr>\n",
       "      <th>Social media</th>\n",
       "      <td>25.1</td>\n",
       "      <td>25.6</td>\n",
       "    </tr>\n",
       "    <tr>\n",
       "      <th>Phone</th>\n",
       "      <td>24.9</td>\n",
       "      <td>24.3</td>\n",
       "    </tr>\n",
       "    <tr>\n",
       "      <th>Chat</th>\n",
       "      <td>24.7</td>\n",
       "      <td>24.9</td>\n",
       "    </tr>\n",
       "  </tbody>\n",
       "</table>\n",
       "</div>"
      ],
      "text/plain": [
       "                % overall  % in head types\n",
       "Ticket Channel                            \n",
       "Email                25.3             25.2\n",
       "Social media         25.1             25.6\n",
       "Phone                24.9             24.3\n",
       "Chat                 24.7             24.9"
      ]
     },
     "metadata": {},
     "output_type": "display_data"
    }
   ],
   "source": [
    "ch_all = clean_df['Ticket Channel'].value_counts(normalize=True).mul(100).round(1).to_frame('% overall')\n",
    "ch_head = (clean_df[clean_df['Ticket Type'].isin(head_types)]['Ticket Channel']\n",
    "            .value_counts(normalize=True).mul(100).round(1).to_frame('% in head types'))\n",
    "display(ch_all.join(ch_head, how='outer').fillna(0).sort_values('% overall', ascending=False))\n",
    "\n",
    "# Quick takeaways\n",
    "try:\n",
    "    top_overall = ch_all['% overall'].sort_values(ascending=False).head(2)\n",
    "    msg = 'Top channels overall: ' + ', '.join([str(i) + ' (' + str(v) + '%)' for i,v in top_overall.items()])\n",
    "    print(msg)\n",
    "except Exception:\n",
    "    pass\n"
   ]
  },
  {
   "cell_type": "markdown",
   "id": "43a92722-7243-45fb-afb6-9eb49bd4948f",
   "metadata": {},
   "source": [
    "no channel skew as they balance out between % overall and % in head types"
   ]
  },
  {
   "cell_type": "markdown",
   "id": "4e3afe4a-36ca-49c2-a032-b115f56c3cd4",
   "metadata": {},
   "source": [
    "e.g., \n",
    "  - Staffing and SLAs: If head types skew to a channel, staff that channel accordingly during peak hours.\n",
    "  - Content and triage: If head types are heavy on Email, invest in reply templates and self-serve articles. If heavy on Social/Chat, optimize quick triage scripts.\n",
    "  - Routing: Adjust routing to nudge certain categories toward the most efficient channels.\n"
   ]
  },
  {
   "cell_type": "code",
   "execution_count": 95,
   "id": "62250af3-9ce8-4562-9ee5-7f47e186ef18",
   "metadata": {},
   "outputs": [
    {
     "name": "stdout",
     "output_type": "stream",
     "text": [
      "Largest type-channel pair: ('Technical issue', 'Social media') — 396 tickets (5.6%)\n"
     ]
    }
   ],
   "source": [
    "total = len(clean_df)\n",
    "tc = clean_df.groupby(['Ticket Type','Ticket Channel']).size().sort_values(ascending=False)\n",
    "top_tc = tc.head(1).to_frame('count')\n",
    "top_tc['share'] = (top_tc['count']/total*100).round(1)\n",
    "top_name = list(top_tc.index)[0]\n",
    "print('Largest type-channel pair:', top_name, '—', int(top_tc['count'].iloc[0]), 'tickets', '(' + str(top_tc['share'].iloc[0]) + '%)')\n"
   ]
  },
  {
   "cell_type": "markdown",
   "id": "76a0df58-b1d8-4e3e-a746-62a3bde86da7",
   "metadata": {},
   "source": [
    "#3 Use LLM to summarize recurring themes from Technical issue via Social media"
   ]
  },
  {
   "cell_type": "code",
   "execution_count": 97,
   "id": "f16bed2c-2858-447e-9dfc-ec649890a79b",
   "metadata": {},
   "outputs": [
    {
     "name": "stdout",
     "output_type": "stream",
     "text": [
      "Subset size for Technical issue via Social media : 396\n",
      "Using 200 snippets for theme extraction\n",
      "Summarizing batch 1 / 10 (size= 20 )…\n",
      "Summarizing batch 2 / 10 (size= 20 )…\n",
      "Summarizing batch 3 / 10 (size= 20 )…\n",
      "Summarizing batch 4 / 10 (size= 20 )…\n",
      "Summarizing batch 5 / 10 (size= 20 )…\n",
      "Summarizing batch 6 / 10 (size= 20 )…\n",
      "Summarizing batch 7 / 10 (size= 20 )…\n",
      "Summarizing batch 8 / 10 (size= 20 )…\n",
      "Summarizing batch 9 / 10 (size= 20 )…\n",
      "Summarizing batch 10 / 10 (size= 20 )…\n",
      "Final Themes for Technical issue via Social media\n",
      "### Merged Themes Summary\n",
      "\n",
      "1. **Network Connectivity Issues (25%)**  \n",
      "   Customers frequently report problems connecting their devices to networks, often despite following troubleshooting steps.  \n",
      "   *Representative Phrases:* \"Unable to connect to Wi-Fi\", \"Intermittent network failures\", \"Network troubleshooting not resolving issues.\"  \n",
      "\n",
      "2. **Software Bugs and Errors (20%)**  \n",
      "   Users experience software-related issues, including bugs that lead to data loss and unexpected errors in applications.  \n",
      "   *Representative Phrases:* \"App crashes frequently\", \"Error messages appearing\", \"Software glitches affecting performance.\"  \n",
      "\n",
      "3. **Product Compatibility (20%)**  \n",
      "   Many tickets highlight difficulties in connecting devices to existing networks or peripherals, indicating compatibility concerns.  \n",
      "   *Representative Phrases:* \"Compatibility issues after updates\", \"Peripheral not recognized\", \"Device not working with existing setup.\"  \n",
      "\n",
      "4. **Account Access Problems (15%)**  \n",
      "   Customers face challenges accessing their accounts, including locked accounts and difficulties with login procedures.  \n",
      "   *Representative Phrases:* \"Account locked, unable to reset password\", \"Login issues persist\", \"Problems accessing account settings.\"  \n",
      "\n",
      "5. **Display and Hardware Issues (10%)**  \n",
      "   Reports of hardware problems, such as screen flickering and other display-related malfunctions, are common.  \n",
      "   *Representative Phrases:* \"Screen flickering intermittently\", \"Device not turning on\", \"Hardware malfunction reported.\"  \n",
      "\n",
      "6. **Product Setup Challenges (5%)**  \n",
      "   Users encounter issues during the initial setup of their devices, often needing assistance with error messages.  \n",
      "   *Representative Phrases:* \"Need help with device setup\", \"Installation errors occurring\", \"Confusion during initial configuration.\"  \n",
      "\n",
      "7. **Cancellation and Refund Requests (3%)**  \n",
      "   A small percentage of tickets involve requests for cancellations or refunds due to ongoing issues with the product.  \n",
      "   *Representative Phrases:* \"Requesting a refund due to dissatisfaction\", \"Cancellation of order needed\", \"Refund process unclear.\"  \n",
      "\n",
      "8. **Payment and Billing Concerns (2%)**  \n",
      "   Customers express confusion or issues related to payment processing and billing for their products.  \n",
      "   *Representative Phrases:* \"Payment processing errors\", \"Billing questions regarding charges\", \"Issues with transaction completion.\"  \n",
      "\n",
      "### Estimated Prevalence\n",
      "- Network Connectivity Issues: 25%\n",
      "- Software Bugs and Errors: 20%\n",
      "- Product Compatibility: 20%\n",
      "- Account Access Problems: 15%\n",
      "- Display and Hardware Issues: 10%\n",
      "- Product Setup Challenges: 5%\n",
      "- Cancellation and Refund Requests: 3%\n",
      "- Payment and Billing Concerns: 2%  \n",
      "\n",
      "*Total: 100%*\n"
     ]
    }
   ],
   "source": [
    "target_type = 'Technical issue'\n",
    "target_channel = 'Social media'\n",
    "\n",
    "subset = clean_df[(clean_df['Ticket Type']==target_type) & (clean_df['Ticket Channel']==target_channel)].copy()\n",
    "print('Subset size for', target_type, 'via', target_channel, ':', len(subset))\n",
    "if subset.empty:\n",
    "    raise ValueError('No rows match the selected Type–Channel. Adjust target_type/channel.')\n",
    "\n",
    "def make_snippet(row, max_len=400):\n",
    "    subj = str(row.get('Ticket Subject', '') or '')\n",
    "    desc = str(row.get('Ticket Description', '') or '')\n",
    "    txt = (subj.strip() + ' — ' + desc.strip()).strip(' —')\n",
    "    txt = ' '.join(txt.split())  # collapse whitespace\n",
    "    return shorten(txt, width=max_len, placeholder='…')\n",
    "\n",
    "subset['snippet'] = subset.apply(make_snippet, axis=1)\n",
    "\n",
    "N = min(len(subset), 200)\n",
    "sample = subset.sample(N, random_state=42) if len(subset)>N else subset\n",
    "print('Using', len(sample), 'snippets for theme extraction')\n",
    "\n",
    "def chunked(lst, size):\n",
    "    for i in range(0, len(lst), size):\n",
    "        yield lst[i:i+size]\n",
    "\n",
    "snippets = sample['snippet'].tolist()\n",
    "batches = list(chunked(snippets, 20))\n",
    "\n",
    "client = OpenAI()\n",
    "\n",
    "def summarize_batch(snips):\n",
    "    bullets = \"- \" + \"\\n- \".join(snips)\n",
    "    prompt = f\"\"\"You are analyzing customer support tickets. Each line is a short ticket summary.\n",
    "    Identify 5–8 themes; 1 sentence; 1–2 phrases; include an estimated %; keep total ~100%.\n",
    "    Be specific, avoid PII, avoid repeating phrases, and do not use placeholders like {{product_purchased}}; use generic product/device wording.\n",
    "      \n",
    "    Tickets:\n",
    "    {bullets}\n",
    "    \"\"\"\n",
    "    resp = client.chat.completions.create(\n",
    "    model='gpt-4o-mini',\n",
    "    messages=[{'role':'user','content':prompt}],\n",
    "    temperature=0.2,\n",
    "    max_tokens=700,\n",
    "    )\n",
    "    return resp.choices[0].message.content\n",
    "\n",
    "batch_summaries = []\n",
    "for i,b in enumerate(batches, 1):\n",
    "    print('Summarizing batch', i, '/', len(batches), '(size=', len(b), ')…')\n",
    "    summary = summarize_batch(b)\n",
    "    batch_summaries.append(summary)\n",
    "    \n",
    "bulleted_summaries = \"\\n\\n---\\n\\n\".join(batch_summaries)\n",
    "merge_prompt = f\"\"\"You are given multiple theme summaries extracted from the same ticket set.\n",
    "Merge them into a single, non-redundant list of 6–10 themes.\n",
    "For each theme, provide: name, 1–2 sentence description, and 2–3 representative phrases, and an estimated prevalence percentage across all tickets (sum to ~100%).\n",
    "Order by estimated prevalence. Avoid duplication and keep it concise.\n",
    "\n",
    "Batch summaries:\n",
    "\n",
    "{bulleted_summaries}\n",
    "\"\"\"\n",
    "\n",
    "final = client.chat.completions.create(\n",
    "model='gpt-4o-mini',\n",
    "messages=[{'role':'user','content':merge_prompt}],\n",
    "temperature=0.2,\n",
    "max_tokens=900,\n",
    ")\n",
    "final_text = final.choices[0].message.content\n",
    "print('Final Themes for', target_type, 'via', target_channel)\n",
    "print(final_text)"
   ]
  },
  {
   "cell_type": "code",
   "execution_count": 98,
   "id": "1105a270-fb1a-49ba-8317-d783aef7783d",
   "metadata": {},
   "outputs": [],
   "source": [
    "batch_map = {s: i for i, b in enumerate(batches, 1) for s in b}\n",
    "\n",
    "df_snippets = sample.copy()\n",
    "df_snippets['batch'] = df_snippets['snippet'].map(batch_map)\n",
    "keep_cols = ['Ticket Subject', 'Ticket Description', 'Ticket Type', 'Ticket Channel', 'snippet', 'batch']\n",
    "df_snippets = df_snippets.reindex(columns=[c for c in keep_cols if c in df_snippets.columns])\n",
    "\n",
    "df_batches = pd.DataFrame({\n",
    "'batch': list(range(1, len(batches) + 1)),\n",
    "'size': [len(b) for b in batches],\n",
    "'summary': batch_summaries,\n",
    "})\n",
    "\n",
    "df_final = pd.DataFrame([{\n",
    "'target_type': target_type,\n",
    "'target_channel': target_channel,\n",
    "'subset_size': len(subset),\n",
    "'n_snippets_used': len(sample),\n",
    "'n_batches': len(batches),\n",
    "'final_themes': final_text,\n",
    "}])"
   ]
  },
  {
   "cell_type": "code",
   "execution_count": 77,
   "id": "2c0cfa26-5d5c-4bfe-9bc8-717f1f770d60",
   "metadata": {},
   "outputs": [],
   "source": [
    "# df_snippets.to_csv(\"snippets.csv\", index=False)\n",
    "# df_batches.to_csv(\"batch_summaries.csv\", index=False)\n",
    "# df_final.to_csv(\"final_themes.csv\", index=False)"
   ]
  },
  {
   "cell_type": "code",
   "execution_count": 99,
   "id": "cb7cc8f9-c742-4fb4-b405-f3f8dc535166",
   "metadata": {},
   "outputs": [
    {
     "data": {
      "text/html": [
       "<div>\n",
       "<style scoped>\n",
       "    .dataframe tbody tr th:only-of-type {\n",
       "        vertical-align: middle;\n",
       "    }\n",
       "\n",
       "    .dataframe tbody tr th {\n",
       "        vertical-align: top;\n",
       "    }\n",
       "\n",
       "    .dataframe thead th {\n",
       "        text-align: right;\n",
       "    }\n",
       "</style>\n",
       "<table border=\"1\" class=\"dataframe\">\n",
       "  <thead>\n",
       "    <tr style=\"text-align: right;\">\n",
       "      <th></th>\n",
       "      <th>target_type</th>\n",
       "      <th>target_channel</th>\n",
       "      <th>subset_size</th>\n",
       "      <th>n_snippets_used</th>\n",
       "      <th>n_batches</th>\n",
       "      <th>final_themes</th>\n",
       "    </tr>\n",
       "  </thead>\n",
       "  <tbody>\n",
       "    <tr>\n",
       "      <th>0</th>\n",
       "      <td>Technical issue</td>\n",
       "      <td>Social media</td>\n",
       "      <td>396</td>\n",
       "      <td>200</td>\n",
       "      <td>10</td>\n",
       "      <td>### Merged Themes Summary\\n\\n1. **Network Conn...</td>\n",
       "    </tr>\n",
       "  </tbody>\n",
       "</table>\n",
       "</div>"
      ],
      "text/plain": [
       "       target_type target_channel  subset_size  n_snippets_used  n_batches  \\\n",
       "0  Technical issue   Social media          396              200         10   \n",
       "\n",
       "                                        final_themes  \n",
       "0  ### Merged Themes Summary\\n\\n1. **Network Conn...  "
      ]
     },
     "execution_count": 99,
     "metadata": {},
     "output_type": "execute_result"
    }
   ],
   "source": [
    "df_final"
   ]
  },
  {
   "cell_type": "code",
   "execution_count": 87,
   "id": "660b8456-5673-4cfa-8f3c-ee018384eaff",
   "metadata": {},
   "outputs": [],
   "source": [
    "# print(df_final.loc[0, 'final_themes'])"
   ]
  },
  {
   "cell_type": "code",
   "execution_count": 100,
   "id": "8ca99072-3ed6-4d2c-a969-7204a4727bbe",
   "metadata": {},
   "outputs": [
    {
     "data": {
      "text/plain": [
       "'1. **Hardware Issues (25%)**: Customers report problems with their devices not turning on or functioning properly, often suspecting hardware malfunctions.\\n\\n2. **Software Bugs (20%)**: Users experience software-related issues, including app crashes, data loss, and connectivity problems, indicating the need for troubleshooting and updates.\\n\\n3. **Data Loss (20%)**: Multiple tickets express concerns about lost data due to crashes or accidental deletions, with requests for recovery options.\\n\\n4. **Account Access (15%)**: Customers face difficulties accessing their accounts, including locked accounts and issues with data recovery, requiring assistance.\\n\\n5. **Product Setup (10%)**: Users seek guidance on setting up new devices or features, indicating confusion about configuration and functionality.\\n\\n6. **Refund Requests (5%)**: Some tickets involve requests for refunds due to ongoing issues with products, highlighting dissatisfaction with performance.\\n\\n7. **Peripheral Compatibility (5%)**: Customers report compatibility issues with peripherals after software updates, affecting device functionality.\\n\\n8. **Delivery Problems (5%)**: A few tickets mention unresolved delivery issues, indicating a need for better communication regarding order status.'"
      ]
     },
     "execution_count": 100,
     "metadata": {},
     "output_type": "execute_result"
    }
   ],
   "source": [
    "df_batches['summary'].iloc[0]"
   ]
  },
  {
   "cell_type": "code",
   "execution_count": 101,
   "id": "bb3eb038-9457-4592-8801-e59aeccd8c90",
   "metadata": {},
   "outputs": [
    {
     "data": {
      "text/plain": [
       "'1. **Product Setup Issues (25%)**: Customers frequently report difficulties in setting up their devices, often requiring step-by-step guidance for troubleshooting connectivity and configuration problems.\\n\\n2. **Battery Life Concerns (20%)**: A significant number of tickets express worries about battery performance, including issues with charging and unexpected shutdowns, indicating potential hardware or software malfunctions.\\n\\n3. **Software Bugs (15%)**: Users are encountering intermittent software glitches that affect device functionality, leading to requests for fixes or updates to resolve these issues.\\n\\n4. **Network Connectivity Problems (15%)**: Many customers are experiencing challenges with connecting their devices to networks, prompting requests for troubleshooting assistance.\\n\\n5. **Cancellation and Refund Requests (10%)**: A portion of tickets involves customers seeking to cancel orders or request refunds due to dissatisfaction with their products or service issues.\\n\\n6. **Security Concerns (10%)**: Several users express anxiety regarding the security of their devices and data, seeking reassurance and solutions to ensure their information is protected.\\n\\n7. **Display and Peripheral Compatibility Issues (5%)**: Some tickets highlight problems with device displays and compatibility with peripherals, indicating a need for support in these areas.\\n\\n8. **Payment and Account Access Issues (5%)**: A smaller segment of tickets addresses difficulties related to payment processing and accessing accounts, requiring assistance to resolve these administrative challenges.'"
      ]
     },
     "execution_count": 101,
     "metadata": {},
     "output_type": "execute_result"
    }
   ],
   "source": [
    "df_batches['summary'].iloc[1]"
   ]
  }
 ],
 "metadata": {
  "kernelspec": {
   "display_name": "Python 3 (ipykernel)",
   "language": "python",
   "name": "python3"
  },
  "language_info": {
   "codemirror_mode": {
    "name": "ipython",
    "version": 3
   },
   "file_extension": ".py",
   "mimetype": "text/x-python",
   "name": "python",
   "nbconvert_exporter": "python",
   "pygments_lexer": "ipython3",
   "version": "3.11.2"
  }
 },
 "nbformat": 4,
 "nbformat_minor": 5
}
